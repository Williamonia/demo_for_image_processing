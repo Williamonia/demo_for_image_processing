{
 "cells": [
  {
   "cell_type": "code",
   "execution_count": null,
   "id": "a24a183d-5642-46b4-8744-995cc2e43f1d",
   "metadata": {},
   "outputs": [],
   "source": [
    "from skimage import imshow"
   ]
  },
  {
   "cell_type": "code",
   "execution_count": 3,
   "id": "2a06369c-e858-4930-bdb7-4265e5880c97",
   "metadata": {},
   "outputs": [
    {
     "data": {
      "text/plain": [
       "5"
      ]
     },
     "execution_count": 3,
     "metadata": {},
     "output_type": "execute_result"
    }
   ],
   "source": [
    "# Define the variable 'data', for example:\n",
    "data = 5\n",
    "data"
   ]
  },
  {
   "cell_type": "code",
   "execution_count": null,
   "id": "9fa4e74e-9c6b-4ead-b693-672ff20b768a",
   "metadata": {},
   "outputs": [],
   "source": []
  }
 ],
 "metadata": {
  "kernelspec": {
   "display_name": "Python 3 (ipykernel)",
   "language": "python",
   "name": "python3"
  },
  "language_info": {
   "codemirror_mode": {
    "name": "ipython",
    "version": 3
   },
   "file_extension": ".py",
   "mimetype": "text/x-python",
   "name": "python",
   "nbconvert_exporter": "python",
   "pygments_lexer": "ipython3",
   "version": "3.9.13"
  }
 },
 "nbformat": 4,
 "nbformat_minor": 5
}
